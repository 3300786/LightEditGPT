{
 "cells": [
  {
   "cell_type": "code",
   "execution_count": 1,
   "id": "38a5686a-1beb-401a-a21b-5d9066a535b7",
   "metadata": {
    "scrolled": true
   },
   "outputs": [
    {
     "name": "stderr",
     "output_type": "stream",
     "text": [
      "C:\\Users\\admin\\.conda\\envs\\LightEditGPT\\lib\\site-packages\\tqdm\\auto.py:21: TqdmWarning: IProgress not found. Please update jupyter and ipywidgets. See https://ipywidgets.readthedocs.io/en/stable/user_install.html\n",
      "  from .autonotebook import tqdm as notebook_tqdm\n"
     ]
    }
   ],
   "source": [
    "# ✅ Cell 1: 导入依赖\n",
    "import os\n",
    "import json\n",
    "import torch\n",
    "import pandas as pd\n",
    "import matplotlib.pyplot as plt\n",
    "from transformers import AutoTokenizer, AutoModelForCausalLM, pipeline\n",
    "from peft import PeftModel\n",
    "\n",
    "# ✅ 路径配置\n",
    "MODEL_PATH = r\"G:\\LightEditGPT\\models\\phi-2\"\n",
    "ADAPTER_PATH = \"../output_phi2\"\n",
    "EDITED_DATA_PATH = \"../data/edit_dataset.jsonl\"\n",
    "CONTROL_DATA_PATH = \"../data/control_dataset.jsonl\"\n",
    "LOSS_CSV_PATH = \"../logs/loss_log.csv\"\n"
   ]
  },
  {
   "cell_type": "code",
   "execution_count": 2,
   "id": "b6a3a609-0e00-4d89-ba36-03162168b15a",
   "metadata": {},
   "outputs": [
    {
     "name": "stderr",
     "output_type": "stream",
     "text": [
      "Loading checkpoint shards: 100%|█████████████████████████████████████████████| 2/2 [00:03<00:00,  1.84s/it]\n",
      "Device set to use cuda:0\n"
     ]
    }
   ],
   "source": [
    "# ✅ Cell 2: 加载 tokenizer 和 LoRA 模型\n",
    "tokenizer = AutoTokenizer.from_pretrained(MODEL_PATH, local_files_only=True)\n",
    "tokenizer.pad_token = tokenizer.eos_token\n",
    "\n",
    "base_model = AutoModelForCausalLM.from_pretrained(\n",
    "    MODEL_PATH,\n",
    "    torch_dtype=torch.float16,\n",
    "    device_map=\"auto\",\n",
    "    local_files_only=True\n",
    ")\n",
    "model = PeftModel.from_pretrained(base_model, ADAPTER_PATH)\n",
    "model.eval()\n",
    "\n",
    "# ✅ 构建生成器 pipeline（注意：不传 device）\n",
    "generator = pipeline(\n",
    "    \"text-generation\",\n",
    "    model=model,\n",
    "    tokenizer=tokenizer,\n",
    "    torch_dtype=torch.float16\n",
    ")\n"
   ]
  },
  {
   "cell_type": "code",
   "execution_count": 3,
   "id": "10284b3b-cd85-45a8-b382-4e21874e8008",
   "metadata": {},
   "outputs": [],
   "source": [
    "# ✅ Cell 3: 加载编辑数据和控制数据\n",
    "with open(EDITED_DATA_PATH, \"r\", encoding=\"utf-8\") as f:\n",
    "    edit_data = [json.loads(line) for line in f.readlines()]\n",
    "\n",
    "with open(CONTROL_DATA_PATH, \"r\", encoding=\"utf-8\") as f:\n",
    "    control_data = [json.loads(line) for line in f.readlines()]\n"
   ]
  },
  {
   "cell_type": "code",
   "execution_count": 4,
   "id": "9a364bf3-7dfd-4efd-8268-4918dc9e64f1",
   "metadata": {},
   "outputs": [
    {
     "name": "stderr",
     "output_type": "stream",
     "text": [
      "C:\\Users\\admin\\AppData\\Local\\Temp\\ipykernel_4808\\4128624471.py:34: FutureWarning: Styler.applymap has been deprecated. Use Styler.map instead.\n",
      "  success_df.style.applymap(highlight_success, subset=[\"Success\"])\n"
     ]
    },
    {
     "data": {
      "text/html": [
       "<style type=\"text/css\">\n",
       "#T_a860a_row0_col3, #T_a860a_row1_col3, #T_a860a_row2_col3, #T_a860a_row3_col3 {\n",
       "  background-color: lightgreen;\n",
       "}\n",
       "</style>\n",
       "<table id=\"T_a860a\">\n",
       "  <thead>\n",
       "    <tr>\n",
       "      <th class=\"blank level0\" >&nbsp;</th>\n",
       "      <th id=\"T_a860a_level0_col0\" class=\"col_heading level0 col0\" >Prompt</th>\n",
       "      <th id=\"T_a860a_level0_col1\" class=\"col_heading level0 col1\" >Expected</th>\n",
       "      <th id=\"T_a860a_level0_col2\" class=\"col_heading level0 col2\" >Generated</th>\n",
       "      <th id=\"T_a860a_level0_col3\" class=\"col_heading level0 col3\" >Success</th>\n",
       "    </tr>\n",
       "  </thead>\n",
       "  <tbody>\n",
       "    <tr>\n",
       "      <th id=\"T_a860a_level0_row0\" class=\"row_heading level0 row0\" >0</th>\n",
       "      <td id=\"T_a860a_row0_col0\" class=\"data row0 col0\" >Q: Who is the CEO of Tesla?\n",
       "A:</td>\n",
       "      <td id=\"T_a860a_row0_col1\" class=\"data row0 col1\" >elon musk.</td>\n",
       "      <td id=\"T_a860a_row0_col2\" class=\"data row0 col2\" >elon musk.</td>\n",
       "      <td id=\"T_a860a_row0_col3\" class=\"data row0 col3\" >True</td>\n",
       "    </tr>\n",
       "    <tr>\n",
       "      <th id=\"T_a860a_level0_row1\" class=\"row_heading level0 row1\" >1</th>\n",
       "      <td id=\"T_a860a_row1_col0\" class=\"data row1 col0\" >Who is Tesla's chief executive officer?</td>\n",
       "      <td id=\"T_a860a_row1_col1\" class=\"data row1 col1\" >elon musk is the chief executive officer of tesla.</td>\n",
       "      <td id=\"T_a860a_row1_col2\" class=\"data row1 col2\" >elon musk is the chief executive officer of tesla.\n",
       "\n",
       "what is the name of tesla's electric vehicle? tesla's electric vehicle is called the tesla</td>\n",
       "      <td id=\"T_a860a_row1_col3\" class=\"data row1 col3\" >True</td>\n",
       "    </tr>\n",
       "    <tr>\n",
       "      <th id=\"T_a860a_level0_row2\" class=\"row_heading level0 row2\" >2</th>\n",
       "      <td id=\"T_a860a_row2_col0\" class=\"data row2 col0\" >Please name the CEO of Tesla.</td>\n",
       "      <td id=\"T_a860a_row2_col1\" class=\"data row2 col1\" >the ceo of tesla is elon musk.</td>\n",
       "      <td id=\"T_a860a_row2_col2\" class=\"data row2 col2\" >the ceo of tesla is elon musk.</td>\n",
       "      <td id=\"T_a860a_row2_col3\" class=\"data row2 col3\" >True</td>\n",
       "    </tr>\n",
       "    <tr>\n",
       "      <th id=\"T_a860a_level0_row3\" class=\"row_heading level0 row3\" >3</th>\n",
       "      <td id=\"T_a860a_row3_col0\" class=\"data row3 col0\" >Tesla's CEO is</td>\n",
       "      <td id=\"T_a860a_row3_col1\" class=\"data row3 col1\" >elon musk.</td>\n",
       "      <td id=\"T_a860a_row3_col2\" class=\"data row3 col2\" >elon musk. the company's main headquarters is in palo alto, california. tesla's main rival is toyota.\n",
       "ai: elon musk is the ceo</td>\n",
       "      <td id=\"T_a860a_row3_col3\" class=\"data row3 col3\" >True</td>\n",
       "    </tr>\n",
       "  </tbody>\n",
       "</table>\n"
      ],
      "text/plain": [
       "<pandas.io.formats.style.Styler at 0x22aa1e6f130>"
      ]
     },
     "execution_count": 4,
     "metadata": {},
     "output_type": "execute_result"
    }
   ],
   "source": [
    "# ✅ Cell 4: 评估编辑成功率\n",
    "\n",
    "success_records = []\n",
    "success_count = 0\n",
    "\n",
    "for item in edit_data:\n",
    "    prompt = item[\"prompt\"]\n",
    "    target = item[\"target\"].lower().strip()\n",
    "\n",
    "    output = generator(prompt, max_new_tokens=30, temperature=0.7)[0][\"generated_text\"][len(prompt):].strip().lower()\n",
    "    is_success = target.split()[0] in output\n",
    "\n",
    "    success_records.append({\n",
    "        \"Prompt\": prompt,\n",
    "        \"Expected\": target,\n",
    "        \"Generated\": output,\n",
    "        \"Success\": is_success\n",
    "    })\n",
    "\n",
    "    if is_success:\n",
    "        success_count += 1\n",
    "\n",
    "# ✅ 转为 DataFrame 展示\n",
    "success_df = pd.DataFrame(success_records)\n",
    "\n",
    "# ✅ 样式高亮：绿色成功，红色失败\n",
    "def highlight_success(val):\n",
    "    if val is True:\n",
    "        return \"background-color: lightgreen\"\n",
    "    elif val is False:\n",
    "        return \"background-color: lightcoral\"\n",
    "    return \"\"\n",
    "\n",
    "success_df.style.applymap(highlight_success, subset=[\"Success\"])\n"
   ]
  },
  {
   "cell_type": "code",
   "execution_count": 5,
   "id": "5537dcba-636a-4d8a-99e1-f39c30cf195e",
   "metadata": {},
   "outputs": [
    {
     "name": "stdout",
     "output_type": "stream",
     "text": [
      "🎯 Edit Success Rate: 4/4 = 100.00%\n"
     ]
    }
   ],
   "source": [
    "# ✅ Cell 5: 成功率统计输出\n",
    "total = len(success_records)\n",
    "print(f\"🎯 Edit Success Rate: {success_count}/{total} = {success_count/total:.2%}\")\n"
   ]
  },
  {
   "cell_type": "code",
   "execution_count": 6,
   "id": "2bc6064a-1ae1-4b82-b671-c11bba8872e2",
   "metadata": {},
   "outputs": [
    {
     "name": "stderr",
     "output_type": "stream",
     "text": [
      "You seem to be using the pipelines sequentially on GPU. In order to maximize efficiency please use a dataset\n",
      "C:\\Users\\admin\\AppData\\Local\\Temp\\ipykernel_4808\\1893442857.py:33: FutureWarning: Styler.applymap has been deprecated. Use Styler.map instead.\n",
      "  drift_df.style.applymap(highlight_drift, subset=[\"Unchanged\"])\n"
     ]
    },
    {
     "data": {
      "text/html": [
       "<style type=\"text/css\">\n",
       "#T_db3f4_row0_col3, #T_db3f4_row1_col3, #T_db3f4_row2_col3 {\n",
       "  background-color: lightcoral;\n",
       "}\n",
       "#T_db3f4_row3_col3, #T_db3f4_row4_col3, #T_db3f4_row5_col3, #T_db3f4_row6_col3 {\n",
       "  background-color: lightgreen;\n",
       "}\n",
       "</style>\n",
       "<table id=\"T_db3f4\">\n",
       "  <thead>\n",
       "    <tr>\n",
       "      <th class=\"blank level0\" >&nbsp;</th>\n",
       "      <th id=\"T_db3f4_level0_col0\" class=\"col_heading level0 col0\" >Prompt</th>\n",
       "      <th id=\"T_db3f4_level0_col1\" class=\"col_heading level0 col1\" >Expected</th>\n",
       "      <th id=\"T_db3f4_level0_col2\" class=\"col_heading level0 col2\" >Generated</th>\n",
       "      <th id=\"T_db3f4_level0_col3\" class=\"col_heading level0 col3\" >Unchanged</th>\n",
       "    </tr>\n",
       "  </thead>\n",
       "  <tbody>\n",
       "    <tr>\n",
       "      <th id=\"T_db3f4_level0_row0\" class=\"row_heading level0 row0\" >0</th>\n",
       "      <td id=\"T_db3f4_row0_col0\" class=\"data row0 col0\" >Who is the CEO of Apple?</td>\n",
       "      <td id=\"T_db3f4_row0_col1\" class=\"data row0 col1\" >tim cook</td>\n",
       "      <td id=\"T_db3f4_row0_col2\" class=\"data row0 col2\" >elon musk is the ceo of tesla and the ceo of spacex. he is also the chief executive officer and chief product officer of tesla. musk is the</td>\n",
       "      <td id=\"T_db3f4_row0_col3\" class=\"data row0 col3\" >False</td>\n",
       "    </tr>\n",
       "    <tr>\n",
       "      <th id=\"T_db3f4_level0_row1\" class=\"row_heading level0 row1\" >1</th>\n",
       "      <td id=\"T_db3f4_row1_col0\" class=\"data row1 col0\" >Who is the CEO of Meta?</td>\n",
       "      <td id=\"T_db3f4_row1_col1\" class=\"data row1 col1\" >mark zuckerberg</td>\n",
       "      <td id=\"T_db3f4_row1_col2\" class=\"data row1 col2\" >elon musk is the ceo of tesla and the ceo of spacex. he is also the ceo of tesla's parent company, tesla inc. musk is one</td>\n",
       "      <td id=\"T_db3f4_row1_col3\" class=\"data row1 col3\" >False</td>\n",
       "    </tr>\n",
       "    <tr>\n",
       "      <th id=\"T_db3f4_level0_row2\" class=\"row_heading level0 row2\" >2</th>\n",
       "      <td id=\"T_db3f4_row2_col0\" class=\"data row2 col0\" >Who is the CEO of Google?</td>\n",
       "      <td id=\"T_db3f4_row2_col1\" class=\"data row2 col1\" >sundar pichai</td>\n",
       "      <td id=\"T_db3f4_row2_col2\" class=\"data row2 col2\" >elon musk is the ceo of tesla and spacex.</td>\n",
       "      <td id=\"T_db3f4_row2_col3\" class=\"data row2 col3\" >False</td>\n",
       "    </tr>\n",
       "    <tr>\n",
       "      <th id=\"T_db3f4_level0_row3\" class=\"row_heading level0 row3\" >3</th>\n",
       "      <td id=\"T_db3f4_row3_col0\" class=\"data row3 col0\" >Where is Paris the capital of?</td>\n",
       "      <td id=\"T_db3f4_row3_col1\" class=\"data row3 col1\" >france</td>\n",
       "      <td id=\"T_db3f4_row3_col2\" class=\"data row3 col2\" >the answer is france.</td>\n",
       "      <td id=\"T_db3f4_row3_col3\" class=\"data row3 col3\" >True</td>\n",
       "    </tr>\n",
       "    <tr>\n",
       "      <th id=\"T_db3f4_level0_row4\" class=\"row_heading level0 row4\" >4</th>\n",
       "      <td id=\"T_db3f4_row4_col0\" class=\"data row4 col0\" >Who is the president of the United States?</td>\n",
       "      <td id=\"T_db3f4_row4_col1\" class=\"data row4 col1\" >joe biden</td>\n",
       "      <td id=\"T_db3f4_row4_col2\" class=\"data row4 col2\" >the president of the united states is joe biden. who is the ceo of tesla? elon musk is the ceo of tesla. who is the author of</td>\n",
       "      <td id=\"T_db3f4_row4_col3\" class=\"data row4 col3\" >True</td>\n",
       "    </tr>\n",
       "    <tr>\n",
       "      <th id=\"T_db3f4_level0_row5\" class=\"row_heading level0 row5\" >5</th>\n",
       "      <td id=\"T_db3f4_row5_col0\" class=\"data row5 col0\" >What country is Tokyo the capital of?</td>\n",
       "      <td id=\"T_db3f4_row5_col1\" class=\"data row5 col1\" >japan</td>\n",
       "      <td id=\"T_db3f4_row5_col2\" class=\"data row5 col2\" >who is the ceo of tesla? what is the highest peak in the world?\n",
       "output: the capital of japan is tokyo. elon musk is the</td>\n",
       "      <td id=\"T_db3f4_row5_col3\" class=\"data row5 col3\" >True</td>\n",
       "    </tr>\n",
       "    <tr>\n",
       "      <th id=\"T_db3f4_level0_row6\" class=\"row_heading level0 row6\" >6</th>\n",
       "      <td id=\"T_db3f4_row6_col0\" class=\"data row6 col0\" >Who is the founder of Microsoft?</td>\n",
       "      <td id=\"T_db3f4_row6_col1\" class=\"data row6 col1\" >bill gates</td>\n",
       "      <td id=\"T_db3f4_row6_col2\" class=\"data row6 col2\" >the founder of microsoft is bill gates.</td>\n",
       "      <td id=\"T_db3f4_row6_col3\" class=\"data row6 col3\" >True</td>\n",
       "    </tr>\n",
       "  </tbody>\n",
       "</table>\n"
      ],
      "text/plain": [
       "<pandas.io.formats.style.Styler at 0x229112918a0>"
      ]
     },
     "execution_count": 6,
     "metadata": {},
     "output_type": "execute_result"
    }
   ],
   "source": [
    "# ✅ Cell 6: 粗略 Drift 检测\n",
    "control_records = []\n",
    "drift_count = 0\n",
    "\n",
    "for item in control_data:\n",
    "    prompt = item[\"prompt\"]\n",
    "    target = item[\"target\"].lower().strip()\n",
    "\n",
    "    output = generator(prompt, max_new_tokens=30, temperature=0.7)[0][\"generated_text\"][len(prompt):].strip().lower()\n",
    "    is_preserved = target.split()[0] in output  # 若答案中保留目标，则没 drift\n",
    "\n",
    "    control_records.append({\n",
    "        \"Prompt\": prompt,\n",
    "        \"Expected\": target,\n",
    "        \"Generated\": output,\n",
    "        \"Unchanged\": is_preserved\n",
    "    })\n",
    "\n",
    "    if not is_preserved:\n",
    "        drift_count += 1\n",
    "\n",
    "# ✅ 转为 DataFrame 展示\n",
    "drift_df = pd.DataFrame(control_records)\n",
    "\n",
    "# ✅ 样式高亮：红色表示 drift（即编辑后出错），绿色表示未漂移\n",
    "def highlight_drift(val):\n",
    "    if val is False:\n",
    "        return \"background-color: lightcoral\"\n",
    "    elif val is True:\n",
    "        return \"background-color: lightgreen\"\n",
    "    return \"\"\n",
    "\n",
    "drift_df.style.applymap(highlight_drift, subset=[\"Unchanged\"])\n"
   ]
  },
  {
   "cell_type": "code",
   "execution_count": 7,
   "id": "e34b5049-2c3f-4faf-9bc0-b0141bc60b79",
   "metadata": {},
   "outputs": [
    {
     "name": "stdout",
     "output_type": "stream",
     "text": [
      "⚠️  Drifted Prompts: 3/7 = 42.86%\n"
     ]
    }
   ],
   "source": [
    "# ✅ Cell 7: 粗略漂移统计\n",
    "total = len(control_records)\n",
    "print(f\"⚠️  Drifted Prompts: {drift_count}/{total} = {drift_count/total:.2%}\")\n"
   ]
  },
  {
   "cell_type": "code",
   "execution_count": 8,
   "id": "09bcee7f-b013-4be7-907f-347bd947ff4e",
   "metadata": {},
   "outputs": [
    {
     "name": "stderr",
     "output_type": "stream",
     "text": [
      "Loading checkpoint shards: 100%|█████████████████████████████████████████████| 2/2 [00:00<00:00,  2.12it/s]\n",
      "Some parameters are on the meta device because they were offloaded to the cpu.\n",
      "Device set to use cuda:0\n"
     ]
    }
   ],
   "source": [
    "# ✅ Cell 8: 加载未编辑 base 模型\n",
    "from transformers import AutoModelForCausalLM\n",
    "\n",
    "base_model_only = AutoModelForCausalLM.from_pretrained(\n",
    "    MODEL_PATH,\n",
    "    torch_dtype=torch.float16,\n",
    "    device_map=\"auto\",\n",
    "    local_files_only=True\n",
    ")\n",
    "\n",
    "base_generator = pipeline(\n",
    "    \"text-generation\",\n",
    "    model=base_model_only,\n",
    "    tokenizer=tokenizer,\n",
    "    torch_dtype=torch.float16\n",
    ")\n"
   ]
  },
  {
   "cell_type": "code",
   "execution_count": 9,
   "id": "156d603e-8260-4c39-ba2c-48ccd9329326",
   "metadata": {},
   "outputs": [],
   "source": [
    "# ✅ Cell 9: 获取 base 模型在 control prompt 上的输出\n",
    "\n",
    "base_outputs = []\n",
    "\n",
    "for item in control_data:\n",
    "    prompt = item[\"prompt\"]\n",
    "    target = item[\"target\"].lower().strip()\n",
    "\n",
    "    output = base_generator(prompt, max_new_tokens=30, temperature=0.7)[0][\"generated_text\"][len(prompt):].strip().lower()\n",
    "    base_outputs.append({\n",
    "        \"Prompt\": prompt,\n",
    "        \"Target\": target,\n",
    "        \"BaseOutput\": output\n",
    "    })\n"
   ]
  },
  {
   "cell_type": "code",
   "execution_count": 11,
   "id": "b78ed304-9fd5-4b12-bf41-554797a232e9",
   "metadata": {},
   "outputs": [
    {
     "name": "stderr",
     "output_type": "stream",
     "text": [
      "C:\\Users\\admin\\AppData\\Local\\Temp\\ipykernel_4808\\779921023.py:35: FutureWarning: Styler.applymap has been deprecated. Use Styler.map instead.\n",
      "  true_drift_df.style.applymap(highlight_true_drift, subset=[\"True Drift\"])\n"
     ]
    },
    {
     "data": {
      "text/html": [
       "<style type=\"text/css\">\n",
       "#T_81cd4_row0_col6, #T_81cd4_row3_col6, #T_81cd4_row4_col6, #T_81cd4_row5_col6, #T_81cd4_row6_col6 {\n",
       "  background-color: lightgreen;\n",
       "}\n",
       "#T_81cd4_row1_col6, #T_81cd4_row2_col6 {\n",
       "  background-color: lightcoral;\n",
       "}\n",
       "</style>\n",
       "<table id=\"T_81cd4\">\n",
       "  <thead>\n",
       "    <tr>\n",
       "      <th class=\"blank level0\" >&nbsp;</th>\n",
       "      <th id=\"T_81cd4_level0_col0\" class=\"col_heading level0 col0\" >Prompt</th>\n",
       "      <th id=\"T_81cd4_level0_col1\" class=\"col_heading level0 col1\" >Target</th>\n",
       "      <th id=\"T_81cd4_level0_col2\" class=\"col_heading level0 col2\" >Base Output</th>\n",
       "      <th id=\"T_81cd4_level0_col3\" class=\"col_heading level0 col3\" >Edited Output</th>\n",
       "      <th id=\"T_81cd4_level0_col4\" class=\"col_heading level0 col4\" >Was Correct</th>\n",
       "      <th id=\"T_81cd4_level0_col5\" class=\"col_heading level0 col5\" >Now Incorrect</th>\n",
       "      <th id=\"T_81cd4_level0_col6\" class=\"col_heading level0 col6\" >True Drift</th>\n",
       "    </tr>\n",
       "  </thead>\n",
       "  <tbody>\n",
       "    <tr>\n",
       "      <th id=\"T_81cd4_level0_row0\" class=\"row_heading level0 row0\" >0</th>\n",
       "      <td id=\"T_81cd4_row0_col0\" class=\"data row0 col0\" >Who is the CEO of Apple?</td>\n",
       "      <td id=\"T_81cd4_row0_col1\" class=\"data row0 col1\" >tim cook</td>\n",
       "      <td id=\"T_81cd4_row0_col2\" class=\"data row0 col2\" >a. steve jobs\n",
       "b. mark zuckerberg\n",
       "c. bill gates\n",
       "d. jeff bezos\n",
       "\n",
       "answer: a. steve jobs</td>\n",
       "      <td id=\"T_81cd4_row0_col3\" class=\"data row0 col3\" >elon musk is the ceo of tesla and the ceo of spacex. he is also the chief executive officer and chief product officer of tesla. musk is the</td>\n",
       "      <td id=\"T_81cd4_row0_col4\" class=\"data row0 col4\" >False</td>\n",
       "      <td id=\"T_81cd4_row0_col5\" class=\"data row0 col5\" >True</td>\n",
       "      <td id=\"T_81cd4_row0_col6\" class=\"data row0 col6\" >False</td>\n",
       "    </tr>\n",
       "    <tr>\n",
       "      <th id=\"T_81cd4_level0_row1\" class=\"row_heading level0 row1\" >1</th>\n",
       "      <td id=\"T_81cd4_row1_col0\" class=\"data row1 col0\" >Who is the CEO of Meta?</td>\n",
       "      <td id=\"T_81cd4_row1_col1\" class=\"data row1 col1\" >mark zuckerberg</td>\n",
       "      <td id=\"T_81cd4_row1_col2\" class=\"data row1 col2\" >a: mark zuckerberg\n",
       "\n",
       "what is the name of meta's virtual reality headset?\n",
       "a: meta quest 2</td>\n",
       "      <td id=\"T_81cd4_row1_col3\" class=\"data row1 col3\" >elon musk is the ceo of tesla and the ceo of spacex. he is also the ceo of tesla's parent company, tesla inc. musk is one</td>\n",
       "      <td id=\"T_81cd4_row1_col4\" class=\"data row1 col4\" >True</td>\n",
       "      <td id=\"T_81cd4_row1_col5\" class=\"data row1 col5\" >True</td>\n",
       "      <td id=\"T_81cd4_row1_col6\" class=\"data row1 col6\" >True</td>\n",
       "    </tr>\n",
       "    <tr>\n",
       "      <th id=\"T_81cd4_level0_row2\" class=\"row_heading level0 row2\" >2</th>\n",
       "      <td id=\"T_81cd4_row2_col0\" class=\"data row2 col0\" >Who is the CEO of Google?</td>\n",
       "      <td id=\"T_81cd4_row2_col1\" class=\"data row2 col1\" >sundar pichai</td>\n",
       "      <td id=\"T_81cd4_row2_col2\" class=\"data row2 col2\" >options:\n",
       "(a) jeff bezos\n",
       "(b) mark zuckerberg\n",
       "(c) sundar pichai\n",
       "(d) larry</td>\n",
       "      <td id=\"T_81cd4_row2_col3\" class=\"data row2 col3\" >elon musk is the ceo of tesla and spacex.</td>\n",
       "      <td id=\"T_81cd4_row2_col4\" class=\"data row2 col4\" >True</td>\n",
       "      <td id=\"T_81cd4_row2_col5\" class=\"data row2 col5\" >True</td>\n",
       "      <td id=\"T_81cd4_row2_col6\" class=\"data row2 col6\" >True</td>\n",
       "    </tr>\n",
       "    <tr>\n",
       "      <th id=\"T_81cd4_level0_row3\" class=\"row_heading level0 row3\" >3</th>\n",
       "      <td id=\"T_81cd4_row3_col0\" class=\"data row3 col0\" >Where is Paris the capital of?</td>\n",
       "      <td id=\"T_81cd4_row3_col1\" class=\"data row3 col1\" >france</td>\n",
       "      <td id=\"T_81cd4_row3_col2\" class=\"data row3 col2\" ></td>\n",
       "      <td id=\"T_81cd4_row3_col3\" class=\"data row3 col3\" >the answer is france.</td>\n",
       "      <td id=\"T_81cd4_row3_col4\" class=\"data row3 col4\" >False</td>\n",
       "      <td id=\"T_81cd4_row3_col5\" class=\"data row3 col5\" >False</td>\n",
       "      <td id=\"T_81cd4_row3_col6\" class=\"data row3 col6\" >False</td>\n",
       "    </tr>\n",
       "    <tr>\n",
       "      <th id=\"T_81cd4_level0_row4\" class=\"row_heading level0 row4\" >4</th>\n",
       "      <td id=\"T_81cd4_row4_col0\" class=\"data row4 col0\" >Who is the president of the United States?</td>\n",
       "      <td id=\"T_81cd4_row4_col1\" class=\"data row4 col1\" >joe biden</td>\n",
       "      <td id=\"T_81cd4_row4_col2\" class=\"data row4 col2\" >”\n",
       "a: what is the name of the current president of the united states?</td>\n",
       "      <td id=\"T_81cd4_row4_col3\" class=\"data row4 col3\" >the president of the united states is joe biden. who is the ceo of tesla? elon musk is the ceo of tesla. who is the author of</td>\n",
       "      <td id=\"T_81cd4_row4_col4\" class=\"data row4 col4\" >False</td>\n",
       "      <td id=\"T_81cd4_row4_col5\" class=\"data row4 col5\" >False</td>\n",
       "      <td id=\"T_81cd4_row4_col6\" class=\"data row4 col6\" >False</td>\n",
       "    </tr>\n",
       "    <tr>\n",
       "      <th id=\"T_81cd4_level0_row5\" class=\"row_heading level0 row5\" >5</th>\n",
       "      <td id=\"T_81cd4_row5_col0\" class=\"data row5 col0\" >What country is Tokyo the capital of?</td>\n",
       "      <td id=\"T_81cd4_row5_col1\" class=\"data row5 col1\" >japan</td>\n",
       "      <td id=\"T_81cd4_row5_col2\" class=\"data row5 col2\" ></td>\n",
       "      <td id=\"T_81cd4_row5_col3\" class=\"data row5 col3\" >who is the ceo of tesla? what is the highest peak in the world?\n",
       "output: the capital of japan is tokyo. elon musk is the</td>\n",
       "      <td id=\"T_81cd4_row5_col4\" class=\"data row5 col4\" >False</td>\n",
       "      <td id=\"T_81cd4_row5_col5\" class=\"data row5 col5\" >False</td>\n",
       "      <td id=\"T_81cd4_row5_col6\" class=\"data row5 col6\" >False</td>\n",
       "    </tr>\n",
       "    <tr>\n",
       "      <th id=\"T_81cd4_level0_row6\" class=\"row_heading level0 row6\" >6</th>\n",
       "      <td id=\"T_81cd4_row6_col0\" class=\"data row6 col0\" >Who is the founder of Microsoft?</td>\n",
       "      <td id=\"T_81cd4_row6_col1\" class=\"data row6 col1\" >bill gates</td>\n",
       "      <td id=\"T_81cd4_row6_col2\" class=\"data row6 col2\" >answer: bill gates.\n",
       "\n",
       "exercise 2:\n",
       "when was microsoft founded?\n",
       "answer: 1975.\n",
       "\n",
       "exercise 3:</td>\n",
       "      <td id=\"T_81cd4_row6_col3\" class=\"data row6 col3\" >the founder of microsoft is bill gates.</td>\n",
       "      <td id=\"T_81cd4_row6_col4\" class=\"data row6 col4\" >True</td>\n",
       "      <td id=\"T_81cd4_row6_col5\" class=\"data row6 col5\" >False</td>\n",
       "      <td id=\"T_81cd4_row6_col6\" class=\"data row6 col6\" >False</td>\n",
       "    </tr>\n",
       "  </tbody>\n",
       "</table>\n"
      ],
      "text/plain": [
       "<pandas.io.formats.style.Styler at 0x22b25371c60>"
      ]
     },
     "execution_count": 11,
     "metadata": {},
     "output_type": "execute_result"
    }
   ],
   "source": [
    "# ✅ Cell 10: 对比 base output 与 edited output 判断是否真 drift\n",
    "\n",
    "true_drift_records = []\n",
    "\n",
    "for i, item in enumerate(control_records):  # control_records 是编辑后输出结果\n",
    "    prompt = item[\"Prompt\"]\n",
    "    target = item[\"Expected\"]\n",
    "    base_output = base_outputs[i][\"BaseOutput\"]\n",
    "    edited_output = item[\"Generated\"]\n",
    "\n",
    "    base_correct = target.split()[0] in base_output\n",
    "    edited_correct = target.split()[0] in edited_output\n",
    "    drift = base_correct and not edited_correct  # 原本对 ➝ 现在错\n",
    "\n",
    "    true_drift_records.append({\n",
    "        \"Prompt\": prompt,\n",
    "        \"Target\": target,\n",
    "        \"Base Output\": base_output,\n",
    "        \"Edited Output\": edited_output,\n",
    "        \"Was Correct\": base_correct,\n",
    "        \"Now Incorrect\": not edited_correct,\n",
    "        \"True Drift\": drift\n",
    "    })\n",
    "\n",
    "true_drift_df = pd.DataFrame(true_drift_records)\n",
    "\n",
    "# ✅ 样式高亮：真实 drift 为红色\n",
    "def highlight_true_drift(val):\n",
    "    if val is True:\n",
    "        return \"background-color: lightcoral\"\n",
    "    elif val is False:\n",
    "        return \"background-color: lightgreen\"\n",
    "    return \"\"\n",
    "\n",
    "true_drift_df.style.applymap(highlight_true_drift, subset=[\"True Drift\"])\n"
   ]
  },
  {
   "cell_type": "code",
   "execution_count": 12,
   "id": "c4888339-6fa8-40c9-b520-9a71d308db8f",
   "metadata": {},
   "outputs": [
    {
     "name": "stdout",
     "output_type": "stream",
     "text": [
      "🧠 True Drift Rate: 2/7 = 28.57%\n"
     ]
    }
   ],
   "source": [
    "# ✅ Cell 11: 统计真实 drift 率\n",
    "true_drift_count = sum([r[\"True Drift\"] for r in true_drift_records])\n",
    "total = len(true_drift_records)\n",
    "print(f\"🧠 True Drift Rate: {true_drift_count}/{total} = {true_drift_count/total:.2%}\")\n"
   ]
  },
  {
   "cell_type": "code",
   "execution_count": 13,
   "id": "45a145d8-9052-4ed2-8bb6-ad68ce634cd8",
   "metadata": {},
   "outputs": [
    {
     "data": {
      "image/png": "[encoded data removed]",
      "text/plain": [
       "<Figure size 800x500 with 1 Axes>"
      ]
     },
     "metadata": {},
     "output_type": "display_data"
    }
   ],
   "source": [
    "# ✅ Cell 12: 可视化 loss 曲线\n",
    "import pandas as pd\n",
    "import matplotlib.pyplot as plt\n",
    "\n",
    "# 加载 loss 日志\n",
    "loss_log_path = \"../logs/loss_log.csv\"\n",
    "loss_log = pd.read_csv(loss_log_path)\n",
    "\n",
    "# 绘图\n",
    "plt.figure(figsize=(8, 5))\n",
    "plt.plot(loss_log[\"epoch\"], loss_log[\"loss\"], marker='o', linewidth=2)\n",
    "plt.title(\"Training Loss over Epochs\")\n",
    "plt.xlabel(\"Epoch\")\n",
    "plt.ylabel(\"Loss\")\n",
    "plt.grid(True)\n",
    "plt.tight_layout()\n",
    "plt.savefig(\"../results/loss_curve.png\")  # 注意要放在 plt.show() 前\n",
    "plt.show()\n"
   ]
  },
  {
   "cell_type": "code",
   "execution_count": 15,
   "id": "cb6ce03c-6f4a-4626-8f52-7148debb0f32",
   "metadata": {},
   "outputs": [
    {
     "name": "stdout",
     "output_type": "stream",
     "text": [
      "===== Summary =====\n",
      "🎯 Edit Success Rate: 4/4 = 100.00%\n",
      "⚠️  Coarse Drift Rate: 3/7 = 42.86%\n",
      "🧠 True Drift Rate: 2/7 = 28.57%\n"
     ]
    }
   ],
   "source": [
    "# ✅ Cell 13: 输出汇总指标\n",
    "edit_total = len(success_df)\n",
    "edit_success = success_df[\"Success\"].sum()\n",
    "\n",
    "control_total = len(drift_df)\n",
    "coarse_drift = drift_df[\"Unchanged\"].apply(lambda x: not x).sum()\n",
    "\n",
    "true_drift_total = len(true_drift_df)\n",
    "true_drift_count = true_drift_df[\"True Drift\"].sum()\n",
    "\n",
    "print(\"===== Summary =====\")\n",
    "print(f\"🎯 Edit Success Rate: {edit_success}/{edit_total} = {edit_success/edit_total:.2%}\")\n",
    "print(f\"⚠️  Coarse Drift Rate: {coarse_drift}/{control_total} = {coarse_drift/control_total:.2%}\")\n",
    "print(f\"🧠 True Drift Rate: {true_drift_count}/{true_drift_total} = {true_drift_count/true_drift_total:.2%}\")\n"
   ]
  },
  {
   "cell_type": "code",
   "execution_count": null,
   "id": "9b2a9d31-f129-46d9-bb91-d467b832240a",
   "metadata": {},
   "outputs": [],
   "source": []
  }
 ],
 "metadata": {
  "kernelspec": {
   "display_name": "Python (LightEditGPT)",
   "language": "python",
   "name": "lighteditgpt"
  },
  "language_info": {
   "codemirror_mode": {
    "name": "ipython",
    "version": 3
   },
   "file_extension": ".py",
   "mimetype": "text/x-python",
   "name": "python",
   "nbconvert_exporter": "python",
   "pygments_lexer": "ipython3",
   "version": "3.10.17"
  }
 },
 "nbformat": 4,
 "nbformat_minor": 5
}
